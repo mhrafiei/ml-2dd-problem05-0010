{
  "nbformat": 4,
  "nbformat_minor": 0,
  "metadata": {
    "colab": {
      "name": "code_colab_keras.ipynb",
      "provenance": [],
      "collapsed_sections": [],
      "toc_visible": true
    },
    "kernelspec": {
      "name": "python3",
      "display_name": "Python 3"
    },
    "accelerator": "GPU"
  },
  "cells": [
    {
      "cell_type": "markdown",
      "metadata": {
        "id": "71wN8Y9q1WaP",
        "colab_type": "text"
      },
      "source": [
        "# **Clone the repository**\n",
        "\n",
        "\n",
        "---\n",
        "\n"
      ]
    },
    {
      "cell_type": "code",
      "metadata": {
        "id": "U6zFb3ihxIDJ",
        "colab_type": "code",
        "colab": {}
      },
      "source": [
        "!git config --global --unset http.proxy\n",
        "!git config --global --unset https.proxy\n",
        "!git config --global user.email \"mrafiei1@jhu.edu\"\n",
        "!git config --global user.name \"mrafiei1\"\n",
        "!git clone https://github.com/mhrafiei/ml-2dd-problem-05.git"
      ],
      "execution_count": 0,
      "outputs": []
    },
    {
      "cell_type": "markdown",
      "metadata": {
        "id": "vwbz9vFa1DR3",
        "colab_type": "text"
      },
      "source": [
        "# **Get the .txt and .mat raw and filtered data**\n",
        "\n",
        "\n",
        "---\n",
        "\n"
      ]
    },
    {
      "cell_type": "code",
      "metadata": {
        "id": "r1jVVFoGxOpL",
        "colab_type": "code",
        "colab": {}
      },
      "source": [
        "cd /content/ml-2dd-problem-05/data-matlab/"
      ],
      "execution_count": 0,
      "outputs": []
    },
    {
      "cell_type": "code",
      "metadata": {
        "id": "9EwchDexxOm9",
        "colab_type": "code",
        "colab": {}
      },
      "source": [
        "!wget -O data_inou.mat https://www.dropbox.com/s/59hulipyhfszh78/data_inou.mat?dl=0\n",
        "!wget -O data_raw.mat https://www.dropbox.com/s/67o7me3skqfd797/data_raw.mat?dl=0\n",
        "!wget -O data_inou.txt https://www.dropbox.com/s/pf4xr4l6tvdcage/data_inou.txt?dl=0\n",
        "!wget -O data_raw.txt https://www.dropbox.com/s/2s4i0k114ve1bpw/data_raw.txt?dl=0"
      ],
      "execution_count": 0,
      "outputs": []
    },
    {
      "cell_type": "markdown",
      "metadata": {
        "id": "eW4pzSk32eWI",
        "colab_type": "text"
      },
      "source": [
        "# **Download npy version of data and indices necessary for ML (prefered) or run /content/ml-2dd-problem-05/code-keras/code_data.py after adjusting rtt and rrs in it**\n",
        "\n",
        "\n",
        "---\n",
        "\n"
      ]
    },
    {
      "cell_type": "code",
      "metadata": {
        "id": "A2bgqwdAxOt7",
        "colab_type": "code",
        "colab": {}
      },
      "source": [
        "cd /content/ml-2dd-problem-05/data-python/"
      ],
      "execution_count": 0,
      "outputs": []
    },
    {
      "cell_type": "code",
      "metadata": {
        "id": "a6wSt1IXxOrb",
        "colab_type": "code",
        "colab": {}
      },
      "source": [
        "!wget -O data.npy https://www.dropbox.com/s/295ayrnphrljca2/data.npy?dl=0\n",
        "!wget -O ind.npy https://www.dropbox.com/s/v0zxbxyofh2wiej/ind.npy?dl=0 "
      ],
      "execution_count": 0,
      "outputs": []
    },
    {
      "cell_type": "code",
      "metadata": {
        "id": "I6Ed5qTF2_UJ",
        "colab_type": "code",
        "colab": {}
      },
      "source": [
        "#!python3.6 /content/ml-2dd-problem-05/code-keras/code_data.py"
      ],
      "execution_count": 0,
      "outputs": []
    },
    {
      "cell_type": "markdown",
      "metadata": {
        "id": "k1kf1C7I1nZ3",
        "colab_type": "text"
      },
      "source": [
        "# **Edit neuron architectures to be investigated in /content/ml-2dd-problem-05/code-keras/code_creator_keras.py and run it**\n",
        "\n",
        "\n",
        "---\n",
        "\n"
      ]
    },
    {
      "cell_type": "code",
      "metadata": {
        "id": "Hg5iP9vt3lJ1",
        "colab_type": "code",
        "colab": {}
      },
      "source": [
        "cd /content/ml-2dd-problem-05/code-keras/"
      ],
      "execution_count": 0,
      "outputs": []
    },
    {
      "cell_type": "code",
      "metadata": {
        "id": "gIWvkJiS2Qxh",
        "colab_type": "code",
        "colab": {}
      },
      "source": [
        "!python3.6 code_creator_keras.py"
      ],
      "execution_count": 0,
      "outputs": []
    },
    {
      "cell_type": "markdown",
      "metadata": {
        "id": "WOqS9T7Y3z6y",
        "colab_type": "text"
      },
      "source": [
        "#**Edit ML input parameters in /content/ml-2dd-problem-05/code-keras/cls_keras.py and run any prefered /content/ml-2dd-problem-05/code-keras/master_keras_* file**\n",
        "\n",
        "\n",
        "---\n",
        "\n"
      ]
    },
    {
      "cell_type": "code",
      "metadata": {
        "id": "zt9pZqzp3vRa",
        "colab_type": "code",
        "colab": {}
      },
      "source": [
        "#Example\n",
        "!python3.6 master_keras_1_1_64_32_16.py"
      ],
      "execution_count": 0,
      "outputs": []
    },
    {
      "cell_type": "markdown",
      "metadata": {
        "id": "4uQfCJTz8Aec",
        "colab_type": "text"
      },
      "source": [
        "# **Results including the models and figures are availble at /content/ml-2dd-problem-05/data-python/**"
      ]
    },
    {
      "cell_type": "code",
      "metadata": {
        "id": "ofl0R7kh8Osg",
        "colab_type": "code",
        "colab": {}
      },
      "source": [
        "cd /content/ml-2dd-problem-05/data-python/"
      ],
      "execution_count": 0,
      "outputs": []
    }
  ]
}
