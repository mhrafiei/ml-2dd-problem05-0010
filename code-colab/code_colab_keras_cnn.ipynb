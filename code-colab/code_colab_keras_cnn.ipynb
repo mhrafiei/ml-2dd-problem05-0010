{
  "nbformat": 4,
  "nbformat_minor": 0,
  "metadata": {
    "colab": {
      "name": "code_colab_keras_cnn.ipynb",
      "provenance": [],
      "collapsed_sections": [],
      "toc_visible": true
    },
    "kernelspec": {
      "name": "python3",
      "display_name": "Python 3"
    },
    "accelerator": "GPU"
  },
  "cells": [
    {
      "cell_type": "markdown",
      "metadata": {
        "id": "71wN8Y9q1WaP",
        "colab_type": "text"
      },
      "source": [
        "# **Clone the repository**\n",
        "\n",
        "\n",
        "---\n",
        "\n"
      ]
    },
    {
      "cell_type": "code",
      "metadata": {
        "id": "U6zFb3ihxIDJ",
        "colab_type": "code",
        "colab": {}
      },
      "source": [
        "!git config --global --unset http.proxy\n",
        "!git config --global --unset https.proxy\n",
        "!git config --global user.email \"mrafiei1@jhu.edu\"\n",
        "!git config --global user.name \"mrafiei1\"\n",
        "!git clone https://github.com/mhrafiei/ml-2dd-problem-05.git"
      ],
      "execution_count": 0,
      "outputs": []
    },
    {
      "cell_type": "markdown",
      "metadata": {
        "id": "eW4pzSk32eWI",
        "colab_type": "text"
      },
      "source": [
        "# **Cat /content/ml-2dd-problem-05/data-python/data_part_* to /content/ml-2dd-problem-05/data-python/data.zip and unzip it**\n",
        "\n",
        "\n",
        "---\n",
        "\n"
      ]
    },
    {
      "cell_type": "code",
      "metadata": {
        "id": "W-J0pBdneF9f",
        "colab_type": "code",
        "colab": {}
      },
      "source": [
        "cd /content/ml-2dd-problem-05/data-python/"
      ],
      "execution_count": 0,
      "outputs": []
    },
    {
      "cell_type": "code",
      "metadata": {
        "id": "A2bgqwdAxOt7",
        "colab_type": "code",
        "colab": {}
      },
      "source": [
        "!cat data_part_a* > data.zip\n",
        "!unzip data.zip"
      ],
      "execution_count": 0,
      "outputs": []
    },
    {
      "cell_type": "markdown",
      "metadata": {
        "id": "k1kf1C7I1nZ3",
        "colab_type": "text"
      },
      "source": [
        "# **Edit neuron architectures to be investigated in /content/ml-2dd-problem-05/code-keras/code_creator_keras.py and run it**\n",
        "\n",
        "\n",
        "---\n",
        "\n"
      ]
    },
    {
      "cell_type": "code",
      "metadata": {
        "id": "Hg5iP9vt3lJ1",
        "colab_type": "code",
        "colab": {}
      },
      "source": [
        "cd /content/ml-2dd-problem-05/code-keras-cnn/"
      ],
      "execution_count": 0,
      "outputs": []
    },
    {
      "cell_type": "code",
      "metadata": {
        "id": "gIWvkJiS2Qxh",
        "colab_type": "code",
        "colab": {}
      },
      "source": [
        "!python3.6 code_creator_keras_cnn.py"
      ],
      "execution_count": 0,
      "outputs": []
    },
    {
      "cell_type": "markdown",
      "metadata": {
        "id": "WOqS9T7Y3z6y",
        "colab_type": "text"
      },
      "source": [
        "#**Edit ML input parameters in /content/ml-2dd-problem-05/code-keras/cls_keras.py and run any prefered /content/ml-2dd-problem-05/code-keras/master_keras_* file**\n",
        "\n",
        "\n",
        "---\n",
        "\n"
      ]
    },
    {
      "cell_type": "code",
      "metadata": {
        "id": "NCTn31GS1Mlt",
        "colab_type": "code",
        "colab": {}
      },
      "source": [
        "#Example\n",
        "!python3.6 master_keras_cnn_1_1_64_48_32_24.py"
      ],
      "execution_count": 0,
      "outputs": []
    },
    {
      "cell_type": "markdown",
      "metadata": {
        "id": "4uQfCJTz8Aec",
        "colab_type": "text"
      },
      "source": [
        "# **Results including the models and figures are availble at /content/ml-2dd-problem-05/data-python/**"
      ]
    },
    {
      "cell_type": "code",
      "metadata": {
        "id": "ofl0R7kh8Osg",
        "colab_type": "code",
        "colab": {}
      },
      "source": [
        "cd /content/ml-2dd-problem-05/"
      ],
      "execution_count": 0,
      "outputs": []
    },
    {
      "cell_type": "code",
      "metadata": {
        "id": "F18SXyZr6EbE",
        "colab_type": "code",
        "colab": {}
      },
      "source": [
        "!git remote rm origin\n",
        "!git remote add origin ****\n",
        "!git pull origin master\n",
        "!git add /content/ml-2dd-problem-05/data-python/*.txt\n",
        "!git add /content/ml-2dd-problem-05/data-python/*.png\n",
        "!git add /content/ml-2dd-problem-05/data-python/*.h5\n",
        "!git commit -m \"data-python\"\n",
        "!git push -f origin master"
      ],
      "execution_count": 0,
      "outputs": []
    },
    {
      "cell_type": "code",
      "metadata": {
        "id": "Q6kjK85bS1Ob",
        "colab_type": "code",
        "colab": {}
      },
      "source": [
        ""
      ],
      "execution_count": 0,
      "outputs": []
    }
  ]
}
