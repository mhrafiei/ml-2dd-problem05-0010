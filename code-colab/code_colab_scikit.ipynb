{
  "nbformat": 4,
  "nbformat_minor": 0,
  "metadata": {
    "colab": {
      "name": "code_colab_scikit.ipynb",
      "provenance": [],
      "collapsed_sections": [],
      "toc_visible": true
    },
    "kernelspec": {
      "name": "python3",
      "display_name": "Python 3"
    }
  },
  "cells": [
    {
      "cell_type": "markdown",
      "metadata": {
        "id": "71wN8Y9q1WaP",
        "colab_type": "text"
      },
      "source": [
        "# **Clone the repository**\n",
        "\n",
        "\n",
        "---\n",
        "\n"
      ]
    },
    {
      "cell_type": "code",
      "metadata": {
        "id": "U6zFb3ihxIDJ",
        "colab_type": "code",
        "colab": {}
      },
      "source": [
        "!git config --global --unset http.proxy\n",
        "!git config --global --unset https.proxy\n",
        "!git config --global user.email \"mrafiei1@jhu.edu\"\n",
        "!git config --global user.name \"mrafiei1\"\n",
        "!git clone https://github.com/mhrafiei/ml-2dd-problem-05.git"
      ],
      "execution_count": 0,
      "outputs": []
    },
    {
      "cell_type": "markdown",
      "metadata": {
        "id": "eW4pzSk32eWI",
        "colab_type": "text"
      },
      "source": [
        "# **Cat /content/ml-2dd-problem-05/data-python/data_part_* to /content/ml-2dd-problem-05/data-python/data.zip and unzip it**\n",
        "\n",
        "---\n",
        "\n"
      ]
    },
    {
      "cell_type": "code",
      "metadata": {
        "id": "A2bgqwdAxOt7",
        "colab_type": "code",
        "colab": {}
      },
      "source": [
        "cd /content/ml-2dd-problem-05/data-python/"
      ],
      "execution_count": 0,
      "outputs": []
    },
    {
      "cell_type": "code",
      "metadata": {
        "id": "a6wSt1IXxOrb",
        "colab_type": "code",
        "colab": {}
      },
      "source": [
        "!cat data_part_a* > data.zip\n",
        "!unzip data.zip"
      ],
      "execution_count": 0,
      "outputs": []
    },
    {
      "cell_type": "code",
      "metadata": {
        "id": "I6Ed5qTF2_UJ",
        "colab_type": "code",
        "colab": {}
      },
      "source": [
        "#!python3.6 /content/ml-2dd-problem-05/code-scikit/code_data.py"
      ],
      "execution_count": 0,
      "outputs": []
    },
    {
      "cell_type": "markdown",
      "metadata": {
        "id": "k1kf1C7I1nZ3",
        "colab_type": "text"
      },
      "source": [
        "# **Edit neuron architectures to be investigated in /content/ml-2dd-problem-05/code-keras/code_creator_keras.py and run it**\n",
        "\n",
        "\n",
        "---\n",
        "\n"
      ]
    },
    {
      "cell_type": "code",
      "metadata": {
        "id": "Hg5iP9vt3lJ1",
        "colab_type": "code",
        "colab": {}
      },
      "source": [
        "cd /content/ml-2dd-problem-05/code-scikit/"
      ],
      "execution_count": 0,
      "outputs": []
    },
    {
      "cell_type": "code",
      "metadata": {
        "id": "gIWvkJiS2Qxh",
        "colab_type": "code",
        "colab": {}
      },
      "source": [
        "!python3.6 code_creator_scikit.py"
      ],
      "execution_count": 0,
      "outputs": []
    },
    {
      "cell_type": "markdown",
      "metadata": {
        "id": "WOqS9T7Y3z6y",
        "colab_type": "text"
      },
      "source": [
        "#**Edit ML input parameters in /content/ml-2dd-problem-05/code-scikit/cls_scikit.py and run any prefered /content/ml-2dd-problem-05/code-scikit/master_scikit_* file**\n",
        "\n",
        "\n",
        "---\n",
        "\n"
      ]
    },
    {
      "cell_type": "code",
      "metadata": {
        "id": "zt9pZqzp3vRa",
        "colab_type": "code",
        "colab": {}
      },
      "source": [
        "#Example\n",
        "!python3.6 master_scikit_1_1_300_250_200_150_100_75_50_25.py"
      ],
      "execution_count": 0,
      "outputs": []
    },
    {
      "cell_type": "markdown",
      "metadata": {
        "id": "4uQfCJTz8Aec",
        "colab_type": "text"
      },
      "source": [
        "# **Results including the models and figures are availble at /content/ml-2dd-problem-05/data-python/**"
      ]
    },
    {
      "cell_type": "code",
      "metadata": {
        "id": "FbGM0NbR8a6p",
        "colab_type": "code",
        "colab": {}
      },
      "source": [
        "cd /content/ml-2dd-problem-05/data-python/"
      ],
      "execution_count": 0,
      "outputs": []
    }
  ]
}
